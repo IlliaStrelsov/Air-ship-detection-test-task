{
 "cells": [
  {
   "cell_type": "code",
   "execution_count": 1,
   "id": "08de1bd4",
   "metadata": {
    "pycharm": {
     "name": "#%%\n"
    }
   },
   "outputs": [],
   "source": [
    "# !py -m pip install --user numpy\n",
    "# !py -m pip install pandas\n",
    "# !py -m pip install -U matplotlib\n",
    "# !py -m pip install -U scikit-image\n",
    "# !py -m pip install -U scikit-learn\n",
    "# !py -m pip install keras\n",
    "# !py -m pip install tensorflow"
   ]
  },
  {
   "cell_type": "code",
   "execution_count": 2,
   "id": "3953aeb7",
   "metadata": {
    "pycharm": {
     "name": "#%%\n"
    }
   },
   "outputs": [],
   "source": [
    "import os\n",
    "import numpy as np\n",
    "import pandas as pd\n",
    "import matplotlib.pyplot as plt\n",
    "from skimage.io import imread\n",
    "from skimage.morphology import binary_opening, disk, label"
   ]
  },
  {
   "cell_type": "code",
   "execution_count": 3,
   "id": "2be02cb4",
   "metadata": {
    "pycharm": {
     "name": "#%%\n"
    }
   },
   "outputs": [],
   "source": [
    "base_directory = \"\"\n",
    "train_directory = os.listdir(base_directory + \"/data/train/\")\n",
    "test_directory = os.listdir(base_directory + \"/data/test/\")"
   ]
  },
  {
   "cell_type": "code",
   "execution_count": 4,
   "id": "a728c393",
   "metadata": {
    "pycharm": {
     "name": "#%%\n"
    }
   },
   "outputs": [
    {
     "data": {
      "text/html": [
       "<div>\n",
       "<style scoped>\n",
       "    .dataframe tbody tr th:only-of-type {\n",
       "        vertical-align: middle;\n",
       "    }\n",
       "\n",
       "    .dataframe tbody tr th {\n",
       "        vertical-align: top;\n",
       "    }\n",
       "\n",
       "    .dataframe thead th {\n",
       "        text-align: right;\n",
       "    }\n",
       "</style>\n",
       "<table border=\"1\" class=\"dataframe\">\n",
       "  <thead>\n",
       "    <tr style=\"text-align: right;\">\n",
       "      <th></th>\n",
       "      <th>ImageId</th>\n",
       "      <th>EncodedPixels</th>\n",
       "    </tr>\n",
       "  </thead>\n",
       "  <tbody>\n",
       "    <tr>\n",
       "      <th>0</th>\n",
       "      <td>00003e153.jpg</td>\n",
       "      <td>NaN</td>\n",
       "    </tr>\n",
       "    <tr>\n",
       "      <th>1</th>\n",
       "      <td>0001124c7.jpg</td>\n",
       "      <td>NaN</td>\n",
       "    </tr>\n",
       "    <tr>\n",
       "      <th>2</th>\n",
       "      <td>000155de5.jpg</td>\n",
       "      <td>264661 17 265429 33 266197 33 266965 33 267733...</td>\n",
       "    </tr>\n",
       "    <tr>\n",
       "      <th>3</th>\n",
       "      <td>000194a2d.jpg</td>\n",
       "      <td>360486 1 361252 4 362019 5 362785 8 363552 10 ...</td>\n",
       "    </tr>\n",
       "    <tr>\n",
       "      <th>4</th>\n",
       "      <td>000194a2d.jpg</td>\n",
       "      <td>51834 9 52602 9 53370 9 54138 9 54906 9 55674 ...</td>\n",
       "    </tr>\n",
       "    <tr>\n",
       "      <th>5</th>\n",
       "      <td>000194a2d.jpg</td>\n",
       "      <td>198320 10 199088 10 199856 10 200624 10 201392...</td>\n",
       "    </tr>\n",
       "    <tr>\n",
       "      <th>6</th>\n",
       "      <td>000194a2d.jpg</td>\n",
       "      <td>55683 1 56451 1 57219 1 57987 1 58755 1 59523 ...</td>\n",
       "    </tr>\n",
       "    <tr>\n",
       "      <th>7</th>\n",
       "      <td>000194a2d.jpg</td>\n",
       "      <td>254389 9 255157 17 255925 17 256693 17 257461 ...</td>\n",
       "    </tr>\n",
       "    <tr>\n",
       "      <th>8</th>\n",
       "      <td>0001b1832.jpg</td>\n",
       "      <td>NaN</td>\n",
       "    </tr>\n",
       "    <tr>\n",
       "      <th>9</th>\n",
       "      <td>00021ddc3.jpg</td>\n",
       "      <td>108287 1 109054 3 109821 4 110588 5 111356 5 1...</td>\n",
       "    </tr>\n",
       "  </tbody>\n",
       "</table>\n",
       "</div>"
      ],
      "text/plain": [
       "         ImageId                                      EncodedPixels\n",
       "0  00003e153.jpg                                                NaN\n",
       "1  0001124c7.jpg                                                NaN\n",
       "2  000155de5.jpg  264661 17 265429 33 266197 33 266965 33 267733...\n",
       "3  000194a2d.jpg  360486 1 361252 4 362019 5 362785 8 363552 10 ...\n",
       "4  000194a2d.jpg  51834 9 52602 9 53370 9 54138 9 54906 9 55674 ...\n",
       "5  000194a2d.jpg  198320 10 199088 10 199856 10 200624 10 201392...\n",
       "6  000194a2d.jpg  55683 1 56451 1 57219 1 57987 1 58755 1 59523 ...\n",
       "7  000194a2d.jpg  254389 9 255157 17 255925 17 256693 17 257461 ...\n",
       "8  0001b1832.jpg                                                NaN\n",
       "9  00021ddc3.jpg  108287 1 109054 3 109821 4 110588 5 111356 5 1..."
      ]
     },
     "execution_count": 4,
     "metadata": {},
     "output_type": "execute_result"
    }
   ],
   "source": [
    "train_ship_seg = pd.read_csv(os.path.join(base_directory, 'train_ship_segmentations_v2.csv'))\n",
    "train_ship_seg.head(10)"
   ]
  },
  {
   "cell_type": "code",
   "execution_count": 5,
   "id": "a7fa13e1",
   "metadata": {
    "pycharm": {
     "name": "#%%\n"
    }
   },
   "outputs": [
    {
     "name": "stdout",
     "output_type": "stream",
     "text": [
      "Total number of images:192556\n",
      "Number of not empty images:42556\n",
      "Total number of ships on images:81723\n",
      "Total number of empty images:150000\n"
     ]
    }
   ],
   "source": [
    "print(f\"Total number of images:{train_ship_seg['ImageId'].nunique()}\")\n",
    "not_empty_images = pd.notna(train_ship_seg['EncodedPixels'])\n",
    "print(f\"Number of not empty images:{train_ship_seg[not_empty_images]['ImageId'].nunique()}\")\n",
    "print(f\"Total number of ships on images:{not_empty_images.sum()}\")\n",
    "print(f\"Total number of empty images:{(~not_empty_images).sum()}\")"
   ]
  },
  {
   "cell_type": "code",
   "execution_count": 6,
   "id": "6dd2bf91",
   "metadata": {
    "pycharm": {
     "name": "#%%\n"
    }
   },
   "outputs": [
    {
     "name": "stdout",
     "output_type": "stream",
     "text": [
      "           ImageId  Ships\n",
      "3    000194a2d.jpg      5\n",
      "5    00021ddc3.jpg      9\n",
      "45   00113a75c.jpg      7\n",
      "81   001aee007.jpg      4\n",
      "117  002943412.jpg      3\n"
     ]
    }
   ],
   "source": [
    "train_ship_seg['Ships'] = train_ship_seg['EncodedPixels'].map(lambda row: 1 if isinstance(row, str) else 0)\n",
    "unique_images = train_ship_seg.groupby('ImageId').agg({'Ships': 'sum'}).reset_index()\n",
    "print(unique_images.loc[unique_images['Ships']>2].head())\n"
   ]
  },
  {
   "cell_type": "code",
   "execution_count": 8,
   "id": "7c013edd",
   "metadata": {
    "pycharm": {
     "name": "#%%\n"
    }
   },
   "outputs": [
    {
     "name": "stdout",
     "output_type": "stream",
     "text": [
      "Max ships :  15\n",
      "Avarage ships :  0.4244115997424126\n"
     ]
    },
    {
     "data": {
      "image/png": "[encoded data removed]",
      "text/plain": [
       "<Figure size 640x480 with 1 Axes>"
      ]
     },
     "metadata": {},
     "output_type": "display_data"
    }
   ],
   "source": [
    "unique_images['Ships'].hist(bins=unique_images['Ships'].max())\n",
    "print('Max ships : ',unique_images['Ships'].max())\n",
    "print('Avarage ships : ',unique_images['Ships'].mean())"
   ]
  },
  {
   "cell_type": "code",
   "execution_count": 9,
   "id": "9b0f8d8e",
   "metadata": {
    "pycharm": {
     "name": "#%%\n"
    }
   },
   "outputs": [
    {
     "name": "stdout",
     "output_type": "stream",
     "text": [
      "18278 masks\n"
     ]
    },
    {
     "data": {
      "image/png": "[encoded data removed]",
      "text/plain": [
       "<Figure size 640x480 with 1 Axes>"
      ]
     },
     "metadata": {},
     "output_type": "display_data"
    }
   ],
   "source": [
    "balanced_data = unique_images.groupby('Ships').apply(lambda x: x.sample(3500) if len(x) > 3500 else x)\n",
    "balanced_data['Ships'].hist(bins=balanced_data['Ships'].max()+1)\n",
    "print(balanced_data.shape[0], 'masks')"
   ]
  },
  {
   "cell_type": "code",
   "execution_count": null,
   "id": "0dfc3b41",
   "metadata": {
    "pycharm": {
     "name": "#%%\n"
    }
   },
   "outputs": [],
   "source": []
  }
 ],
 "metadata": {
  "kernelspec": {
   "display_name": "Python 3 (ipykernel)",
   "language": "python",
   "name": "python3"
  },
  "language_info": {
   "codemirror_mode": {
    "name": "ipython",
    "version": 3
   },
   "file_extension": ".py",
   "mimetype": "text/x-python",
   "name": "python",
   "nbconvert_exporter": "python",
   "pygments_lexer": "ipython3",
   "version": "3.9.10"
  }
 },
 "nbformat": 4,
 "nbformat_minor": 5
}